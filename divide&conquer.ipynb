{
  "nbformat": 4,
  "nbformat_minor": 0,
  "metadata": {
    "colab": {
      "provenance": [],
      "authorship_tag": "ABX9TyP9SpEn2M/uDsooEDAUZp+q",
      "include_colab_link": true
    },
    "kernelspec": {
      "name": "python3",
      "display_name": "Python 3"
    },
    "language_info": {
      "name": "python"
    }
  },
  "cells": [
    {
      "cell_type": "markdown",
      "metadata": {
        "id": "view-in-github",
        "colab_type": "text"
      },
      "source": [
        "<a href=\"https://colab.research.google.com/github/anujtech313/Machine-Learning-Projects/blob/main/divide%26conquer.ipynb\" target=\"_parent\"><img src=\"https://colab.research.google.com/assets/colab-badge.svg\" alt=\"Open In Colab\"/></a>"
      ]
    },
    {
      "cell_type": "markdown",
      "source": [
        "**Divide and Conquer\n",
        "Dividing the problem in a binary approach and then conquering the results.\n",
        "It generally requires extra space**"
      ],
      "metadata": {
        "id": "WGuCEQJ663gj"
      }
    },
    {
      "cell_type": "markdown",
      "source": [
        "1. Write a program to sort a given array of numbers using merge sort and divide and conquer"
      ],
      "metadata": {
        "id": "rO6H8oXm7TPS"
      }
    },
    {
      "cell_type": "code",
      "source": [
        "# Python program for implementation of MergeSort\n",
        "def mergeSort(arr):\n",
        "  ## Moving Top to Bottom in a Recursive Tree -> Whiteboard\n",
        "\tif len(arr) > 1:\n",
        "    # Finding the mid of the array\n",
        "\t\tmid = len(arr)//2\n",
        "    # Dividing the array elements into two halves\n",
        "    # Left Subtree\n",
        "\t\tL = arr[:mid]\n",
        "\t\t# Right Subtree\n",
        "\t\tR = arr[mid:]\n",
        "\t\t# Sorting the first half(Left Subtree)\n",
        "\t\tmergeSort(L)    # Recursive Call\n",
        "\t\t# Sorting the second half(Right Subtree)\n",
        "\t\tmergeSort(R)    # Recursive Call\n",
        "\n",
        "    ## Move from Bottom to Top by applying merge procedure -> Whiteboard\n",
        "\t\ti = j = k = 0\n",
        "\t\t# Copy data to temp arrays L[] and R[]\n",
        "\t\twhile i < len(L) and j < len(R):\n",
        "\t\t\tif L[i] < R[j]:\n",
        "\t\t\t\tarr[k] = L[i]\n",
        "\t\t\t\ti += 1\n",
        "\t\t\telse:\n",
        "\t\t\t\tarr[k] = R[j]\n",
        "\t\t\t\tj += 1\n",
        "\t\t\tk += 1\n",
        "\n",
        "\t\t# Checking if any element was left\n",
        "\t\twhile i < len(L):\n",
        "\t\t\tarr[k] = L[i]\n",
        "\t\t\ti += 1\n",
        "\t\t\tk += 1\n",
        "\n",
        "\t\twhile j < len(R):\n",
        "\t\t\tarr[k] = R[j]\n",
        "\t\t\tj += 1\n",
        "\t\t\tk += 1\n",
        "\n",
        "# Code to print the list\n",
        "def printList(arr):\n",
        "\tfor i in range(len(arr)):\n",
        "\t\tprint(arr[i], end=\" \")\n",
        "\tprint()\n",
        "\n",
        "\n",
        "# Driver Code\n",
        "if __name__ == '__main__':\n",
        "\tarr = [50, 20, 40, 90, 88, 11, 13]\n",
        "\tprint(\"Given array is\", end=\"\\n\")\n",
        "\tprintList(arr)\n",
        "\tmergeSort(arr)\n",
        "\tprint(\"Sorted array is: \", end=\"\\n\")\n",
        "\tprintList(arr)\n"
      ],
      "metadata": {
        "colab": {
          "base_uri": "https://localhost:8080/"
        },
        "id": "uELV_VTu7s1U",
        "outputId": "3d7002cf-53d4-4221-d2e3-08e320c40cc5"
      },
      "execution_count": 6,
      "outputs": [
        {
          "output_type": "stream",
          "name": "stdout",
          "text": [
            "Given array is\n",
            "50 20 40 90 88 11 13 \n",
            "Sorted array is: \n",
            "11 13 20 40 50 88 90 \n"
          ]
        }
      ]
    },
    {
      "cell_type": "code",
      "source": [],
      "metadata": {
        "id": "AN1kbAnKG5Z5"
      },
      "execution_count": null,
      "outputs": []
    },
    {
      "cell_type": "code",
      "source": [
        "## Method Definition\n",
        "def DAC_maxmin(array, low, high):\n",
        "  max_value = array[low]\n",
        "  min_value = array[low]\n",
        "\n",
        "  # Small Problems\n",
        "  # Number of Elements = 1\n",
        "  # O(1)\n",
        "  if low == high:\n",
        "    return (max_value, min_value)\n",
        "  # Number of Elements = 2\n",
        "  # O(1)\n",
        "  elif low == high - 1:\n",
        "    if array[low] > array[high]:\n",
        "      max_value = array[low]\n",
        "      min_value = array[high]\n",
        "    else:\n",
        "      max_value = array[high]\n",
        "      min_value = array[low]\n",
        "    return (max_value, min_value)\n",
        "  # Number of Elements > 2 ----> Big Problem\n",
        "  # Divide and Conquer Strategy\n",
        "  else:\n",
        "    mid = low + (high-low)//2 #O(1)\n",
        "    max_1, min_1 = DAC_maxmin(array, low, mid)  # T(n/2)\n",
        "    max_2, min_2 = DAC_maxmin(array, mid+1, high) #T(n/2)\n",
        "\n",
        "  return (max(max_1,max_2), min(min_1,min_2)) #O(1)\n",
        "\n",
        "## Driver Code\n",
        "array = [50, 90, 170, 25, 15, 7, 190, 4, 59]\n",
        "high = len(array) - 1\n",
        "low = 0\n",
        "max_value, min_value = DAC_maxmin(array, low, high)\n",
        "print(\"Minimum element in an array:\", min_value)\n",
        "print(\"Maximum element in an array\", max_value)"
      ],
      "metadata": {
        "colab": {
          "base_uri": "https://localhost:8080/"
        },
        "id": "Yq2IwecXG5eY",
        "outputId": "dfb5c30f-6974-454d-a425-92fc95dbdd16"
      },
      "execution_count": 8,
      "outputs": [
        {
          "output_type": "stream",
          "name": "stdout",
          "text": [
            "Minimum element in an array: 4\n",
            "Maximum element in an array 190\n"
          ]
        }
      ]
    },
    {
      "cell_type": "code",
      "source": [
        "# Python program for implementation of MergeSort\n",
        "def mergeSort(arr):\n",
        "  ## Moving Top to Bottom in a Recursive Tree -> Whiteboard\n",
        "\tif len(arr) > 1:\n",
        "    # Finding the mid of the array\n",
        "\t\tmid = len(arr)//2\n",
        "    # Dividing the array elements into two halves\n",
        "    # Left Subtree\n",
        "\t\tL = arr[:mid]\n",
        "\t\t# Right Subtree\n",
        "\t\tR = arr[mid:]\n",
        "\t\t# Sorting the first half(Left Subtree)\n",
        "\t\tmergeSort(L)    # Recursive Call\n",
        "\t\t# Sorting the second half(Right Subtree)\n",
        "\t\tmergeSort(R)    # Recursive Call\n",
        "\n",
        "    ## Move from Bottom to Top by applying merge procedure -> Whiteboard\n",
        "\t\ti = j = k = 0\n",
        "\t\t# Copy data to temp arrays L[] and R[]\n",
        "\t\twhile i < len(L) and j < len(R):\n",
        "\t\t\tif L[i] < R[j]:\n",
        "\t\t\t\tarr[k] = L[i]\n",
        "\t\t\t\ti += 1\n",
        "\t\t\telse:\n",
        "\t\t\t\tarr[k] = R[j]\n",
        "\t\t\t\tj += 1\n",
        "\t\t\tk += 1\n",
        "\n",
        "\t\t# Checking if any element was left\n",
        "\t\twhile i < len(L):\n",
        "\t\t\tarr[k] = L[i]\n",
        "\t\t\ti += 1\n",
        "\t\t\tk += 1\n",
        "\n",
        "\t\twhile j < len(R):\n",
        "\t\t\tarr[k] = R[j]\n",
        "\t\t\tj += 1\n",
        "\t\t\tk += 1\n",
        "\n",
        "# Code to print the list\n",
        "def printList(arr):\n",
        "\tfor i in range(len(arr)):\n",
        "\t\tprint(arr[i], end=\" \")\n",
        "\tprint()\n",
        "\n",
        "\n",
        "# Driver Code\n",
        "if __name__ == '__main__':\n",
        "\tarr = [50, 20, 40, 90, 88, 11, 13]\n",
        "\tprint(\"Given array is\", end=\"\\n\")\n",
        "\tprintList(arr)\n",
        "\tmergeSort(arr)\n",
        "\tprint(\"Sorted array is: \", end=\"\\n\")\n",
        "\tprintList(arr)"
      ],
      "metadata": {
        "id": "DWrFzXYeJwcr"
      },
      "execution_count": null,
      "outputs": []
    },
    {
      "cell_type": "code",
      "source": [
        "def inversion(arr):\n",
        "  if len(arr)>1:\n",
        "    mid = len(arr)//2\n",
        "    L =arr[:mid]\n",
        "    R = arr[mid:]\n",
        "\n",
        "    inversion(L)\n",
        "    inversion(R)\n",
        "\n",
        "\n",
        "    i = j = k = 0\n",
        "    while i < len(L) and j < len(R):\n",
        "      if L[i] > R[j]:\n",
        "        arr[k] = L[i]\n",
        "        L[i] = R[j]\n",
        "        R[j] = arr[k]\n",
        "      \n",
        "\n",
        "\n",
        "\n",
        "\n",
        "\n",
        "\n",
        "\n",
        "\n",
        "\n",
        "\n",
        "array = [70, 50, 60, 10, 20, 30, 80, 15]\n"
      ],
      "metadata": {
        "id": "hI-E4G8LJNkr"
      },
      "execution_count": 9,
      "outputs": []
    }
  ]
}